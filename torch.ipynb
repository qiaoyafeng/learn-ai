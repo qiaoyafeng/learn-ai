{
 "metadata": {
  "language_info": {
   "codemirror_mode": {
    "name": "python",
    "version": 3
   },
   "file_extension": ".py",
   "mimetype": "text/x-python",
   "name": "python",
   "nbconvert_exporter": "python",
   "pygments_lexer": "ipython3",
   "version": "3.8"
  },
  "kernelspec": {
   "name": "python",
   "display_name": "Python (Pyodide)",
   "language": "python"
  }
 },
 "nbformat_minor": 4,
 "nbformat": 4,
 "cells": [
  {
   "cell_type": "markdown",
   "source": [
    "# PyTorch 之 60min 入门教程"
   ],
   "metadata": {
    "pycharm": {
     "name": "#%% md\n"
    }
   }
  },
  {
   "cell_type": "markdown",
   "source": [
    "## PyTorch 入门\n",
    "\n",
    "### 什么是 PyTorch?\n",
    "\n",
    "PyTorch 是一个基于 Python 的科学计算包，主要定位两类人群：\n",
    "\n",
    "- NumPy 的替代品，可以利用 GPU 的性能进行计算。\n",
    "- 深度学习研究平台拥有足够的灵活性和速度\n",
    "\n",
    "### 开始学习\n",
    "\n",
    "#### Tensors (张量)\n",
    "\n",
    "Tensors 类似于 NumPy 的 ndarrays ，同时 Tensors 可以使用 GPU 进行计算。\n"
   ],
   "metadata": {
    "pycharm": {
     "name": "#%% md\n"
    }
   }
  },
  {
   "cell_type": "code",
   "source": [
    "from __future__ import print_function\n",
    "import torch"
   ],
   "metadata": {
    "pycharm": {
     "name": "#%%\n"
    }
   },
   "execution_count": null,
   "outputs": []
  }
 ]
}